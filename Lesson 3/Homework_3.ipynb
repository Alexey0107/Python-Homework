{
 "cells": [
  {
   "cell_type": "markdown",
   "metadata": {},
   "source": [
    "## Lesson 3"
   ]
  },
  {
   "cell_type": "code",
   "execution_count": 43,
   "metadata": {},
   "outputs": [],
   "source": [
    "import numpy as np\n",
    "import pandas as pd"
   ]
  },
  {
   "cell_type": "markdown",
   "metadata": {},
   "source": [
    "## Homework"
   ]
  },
  {
   "cell_type": "code",
   "execution_count": 73,
   "metadata": {},
   "outputs": [
    {
     "name": "stdout",
     "output_type": "stream",
     "text": [
      "1. Создание объектов типа Series через списки Python\n",
      "city_1    1001\n",
      "city_2    1002\n",
      "city_3    1003\n",
      "city_4    1004\n",
      "city_5    1005\n",
      "Name: Population, dtype: int64\n",
      "\n",
      "2. Создание объектов типа Series через скалярные значения\n",
      "city_1    1000\n",
      "city_2    1000\n",
      "city_3    1000\n",
      "city_4    1000\n",
      "city_5    1000\n",
      "Name: Scalar, dtype: int64\n",
      "\n",
      "3. Создание объектов типа Series через словари\n",
      "city_1    1001\n",
      "city_2    1002\n",
      "city_3    1003\n",
      "city_4    1004\n",
      "city_5    1005\n",
      "Name: Population from Dict, dtype: int64\n"
     ]
    }
   ],
   "source": [
    "# 1. Привести различные способы создания объектов типа Series\n",
    "# Для создания Series можно использовать\n",
    "# - списки Python или массивы NumPy\n",
    "# - скалярные значение\n",
    "# - словари\n",
    "\n",
    "cities = ['city_1', 'city_2', 'city_3', 'city_4', 'city_5']\n",
    "population_values = [1001, 1002, 1003, 1004, 1005]\n",
    "area_values = [9991, 9992, 9993, 9994, 9995]\n",
    "\n",
    "\n",
    "print('1. Создание объектов типа Series через списки Python')\n",
    "s_population_list = pd.Series(data=population_values,index=cities, name='Population')\n",
    "print( s_population_list)\n",
    "print()\n",
    "\n",
    "print('2. Создание объектов типа Series через скалярные значения')\n",
    "s_scalar = pd.Series(data=1000, index=cities, name='Scalar')\n",
    "print( s_scalar)\n",
    "print()\n",
    "\n",
    "print('3. Создание объектов типа Series через словари')\n",
    "population_dict = {\n",
    "    'city_1': 1001,\n",
    "    'city_2': 1002,\n",
    "    'city_3': 1003,\n",
    "    'city_4': 1004,\n",
    "    'city_5': 1005\n",
    "}\n",
    "s_population_dict = pd.Series(data=population_dict, name='Population from Dict')\n",
    "print( s_population_dict)\n"
   ]
  },
  {
   "cell_type": "code",
   "execution_count": 74,
   "metadata": {},
   "outputs": [
    {
     "name": "stdout",
     "output_type": "stream",
     "text": [
      "1. Cоздание объектов типа DataFrame через объекты Series \n",
      "        poputation1  area1\n",
      "city_1         1001   9991\n",
      "city_2         1002   9992\n",
      "city_3         1003   9993\n",
      "city_4         1004   9994\n",
      "city_5         1005   9995\n",
      "\n",
      "2. Cоздание объектов типа DataFrame через списки словарей \n",
      "        population  area\n",
      "city                    \n",
      "city_1        1001  9991\n",
      "city_2        1002  9992\n",
      "city_3        1003  9993\n",
      "city_4        1004  9994\n",
      "city_5        1005  9995\n",
      "\n",
      "3. Cоздание объектов типа DataFrame через словари объектов Series \n",
      "        population  area\n",
      "city_1        1001  9991\n",
      "city_2        1002  9992\n",
      "city_3        1003  9993\n",
      "city_4        1004  9994\n",
      "city_5        1005  9995\n",
      "\n",
      "4. Cоздание объектов типа DataFrame через двумерный массив NumPy \n",
      "        population  area\n",
      "city_1        1001  9991\n",
      "city_2        1002  9992\n",
      "city_3        1003  9993\n",
      "city_4        1004  9994\n",
      "city_5        1005  9995\n",
      "\n",
      "5. Cоздание объектов типа DataFrame через структурированный массив Numpy \n",
      "        population  area\n",
      "city_1        1001  9991\n",
      "city_2        1002  9992\n",
      "city_3        1003  9993\n",
      "city_4        1004  9994\n",
      "city_5        1005  9995\n",
      "\n"
     ]
    }
   ],
   "source": [
    "# 2. Привести различные способы создания объектов типа DataFrame\n",
    "# DataFrame. Способы создания\n",
    "# - через объекты Series\n",
    "# - списки словарей\n",
    "# - словари объектов Series\n",
    "# - двумерный массив NumPy\n",
    "# - структурированный массив Numpy\n",
    "\n",
    "print('1. Cоздание объектов типа DataFrame через объекты Series ')\n",
    "population_dict  ={\n",
    "    'city_1': 1001,\n",
    "    'city_2': 1002,\n",
    "    'city_3': 1003,\n",
    "    'city_4': 1004,\n",
    "    'city_5': 1005\n",
    "}\n",
    "area_dict  ={\n",
    "    'city_1': 9991,\n",
    "    'city_2': 9992,\n",
    "    'city_3': 9993,\n",
    "    'city_4': 9994,\n",
    "    'city_5': 9995\n",
    "}\n",
    "population = pd.Series(population_dict)\n",
    "area = pd.Series(area_dict)\n",
    "states = pd.DataFrame({\n",
    "    'poputation1':population,\n",
    "    'area1': area\n",
    "})\n",
    "print(states)\n",
    "print()\n",
    "\n",
    "print('2. Cоздание объектов типа DataFrame через списки словарей ')\n",
    "data = [\n",
    "    {'city': 'city_1', 'population': 1001, 'area': 9991},\n",
    "    {'city': 'city_2', 'population': 1002, 'area': 9992},\n",
    "    {'city': 'city_3', 'population': 1003, 'area': 9993},\n",
    "    {'city': 'city_4', 'population': 1004, 'area': 9994},\n",
    "    {'city': 'city_5', 'population': 1005, 'area': 9995}\n",
    "]\n",
    "\n",
    "df = pd.DataFrame(data).set_index('city')\n",
    "print(df)\n",
    "print()\n",
    "\n",
    "print('3. Cоздание объектов типа DataFrame через словари объектов Series ')\n",
    "data = {\n",
    "    'population': [1001, 1002, 1003, 1004, 1005],\n",
    "    'area': [9991, 9992, 9993, 9994, 9995]\n",
    "}\n",
    "\n",
    "df = pd.DataFrame(data, index=['city_1', 'city_2', 'city_3', 'city_4', 'city_5'])\n",
    "print(df)\n",
    "print()\n",
    "\n",
    "print('4. Cоздание объектов типа DataFrame через двумерный массив NumPy ')\n",
    "arr = np.array([\n",
    "    [1001, 9991],\n",
    "    [1002, 9992],\n",
    "    [1003, 9993],\n",
    "    [1004, 9994],\n",
    "    [1005, 9995]\n",
    "])\n",
    "\n",
    "df = pd.DataFrame(arr, columns=['population', 'area'], index=[f'city_{i+1}' for i in range(5)])\n",
    "print(df)\n",
    "print()\n",
    "\n",
    "print('5. Cоздание объектов типа DataFrame через структурированный массив Numpy ')\n",
    "dtype = [('population', int), ('area', int)]\n",
    "arr = np.array([(1001, 9991), (1002, 9992), (1003, 9993), (1004, 9994), (1005, 9995)],dtype=dtype)\n",
    "\n",
    "df = pd.DataFrame(arr, index=[f'city_{i+1}' for i in range(5)])\n",
    "print(df)\n",
    "print()\n"
   ]
  },
  {
   "cell_type": "code",
   "execution_count": 75,
   "metadata": {},
   "outputs": [
    {
     "name": "stdout",
     "output_type": "stream",
     "text": [
      "          area1    pop1\n",
      "city_1   9991.0  1001.0\n",
      "city_2   9992.0  1002.0\n",
      "city_3   9993.0  1003.0\n",
      "city_41     1.0  1004.0\n",
      "city_42  9994.0     1.0\n",
      "city_51     1.0  1005.0\n",
      "city_52  9995.0     1.0\n"
     ]
    }
   ],
   "source": [
    "# 3. Объедините два объекта Series с неодинаковыми множествами ключей (индексов) так, чтобы вместо NaN было установлено значение 1\n",
    "\n",
    "pop = pd.Series({\n",
    "    'city_1': 1001,\n",
    "    'city_2': 1002,\n",
    "    'city_3': 1003,\n",
    "    'city_41': 1004,\n",
    "    'city_51': 1005\n",
    "})\n",
    "\n",
    "area = pd.Series({\n",
    "    'city_1': 9991,\n",
    "    'city_2': 9992,\n",
    "    'city_3': 9993,\n",
    "    'city_42': 9994,\n",
    "    'city_52': 9995\n",
    "})\n",
    "\n",
    "data = pd.DataFrame({'area1': area, 'pop1': pop}).fillna(1)\n",
    "print(data)"
   ]
  },
  {
   "cell_type": "code",
   "execution_count": 76,
   "metadata": {},
   "outputs": [
    {
     "name": "stdout",
     "output_type": "stream",
     "text": [
      "DataFrame:\n",
      "   a  b  c  d\n",
      "0  0  6  7  1\n",
      "1  5  3  5  0\n",
      "2  6  2  5  4\n",
      "Первый столбец:\n",
      "0    0\n",
      "1    5\n",
      "2    6\n",
      "Name: a, dtype: int64\n",
      "Вычитание по столбцам:\n",
      "   a  b  c  d\n",
      "0  0  6  7  1\n",
      "1  0 -2  0 -5\n",
      "2  0 -4 -1 -2\n"
     ]
    }
   ],
   "source": [
    "# 4. Переписать пример с транслирование для DataFrame так, чтобы вычитание происходило по СТОЛБЦАМ\n",
    "\n",
    "A = rng.integers(0, 10, (3,4))\n",
    "df = pd.DataFrame(A, columns=['a', 'b', 'c', 'd'])\n",
    "\n",
    "print(\"DataFrame:\")\n",
    "print(df)\n",
    "\n",
    "print(\"Первый столбец:\")\n",
    "print(df.iloc[:, 0])\n",
    "\n",
    "print(\"Вычитание по столбцам:\")\n",
    "print(df.sub(df.iloc[:, 0], axis=0))"
   ]
  },
  {
   "cell_type": "code",
   "execution_count": 77,
   "metadata": {},
   "outputs": [
    {
     "name": "stdout",
     "output_type": "stream",
     "text": [
      "Исходный DataFrame:\n",
      "     A    B     C\n",
      "0  1.0  NaN  10.0\n",
      "1  NaN  7.0  20.0\n",
      "2  3.0  NaN   NaN\n",
      "3  NaN  9.0   NaN\n",
      "4  5.0  NaN  50.0\n",
      "После ffill():\n",
      "     A    B     C\n",
      "0  1.0  NaN  10.0\n",
      "1  1.0  7.0  20.0\n",
      "2  3.0  7.0  20.0\n",
      "3  3.0  9.0  20.0\n",
      "4  5.0  9.0  50.0\n",
      "После bfill():\n",
      "     A    B     C\n",
      "0  1.0  7.0  10.0\n",
      "1  3.0  7.0  20.0\n",
      "2  3.0  9.0  50.0\n",
      "3  5.0  9.0  50.0\n",
      "4  5.0  NaN  50.0\n"
     ]
    }
   ],
   "source": [
    "# 5. На примере объектов DataFrame продемонстрируйте использование методов ffill() и bfill()\n",
    "\n",
    "data = {\n",
    "    'A': [1, np.nan, 3, np.nan, 5],\n",
    "    'B': [np.nan, 7, np.nan, 9, np.nan],\n",
    "    'C': [10, 20, np.nan, np.nan, 50]\n",
    "}\n",
    "\n",
    "df = pd.DataFrame(data)\n",
    "print(\"Исходный DataFrame:\")\n",
    "print(df)\n",
    "\n",
    "# ffill() заполняет пропуски ПОСЛЕДНИМ известным значением сверху вниз:\n",
    "df1 = df.ffill()\n",
    "print(\"После ffill():\")\n",
    "print(df1)\n",
    "\n",
    "# bfill() заполняет пропуски СЛЕДУЮЩИМ известным значением снизу вверх:\n",
    "df2 = df.bfill()\n",
    "print(\"После bfill():\")\n",
    "print(df2)\n"
   ]
  },
  {
   "cell_type": "code",
   "execution_count": 4,
   "metadata": {},
   "outputs": [],
   "source": [
    "# Pandas - расширение NumPy(структурированные массивы). Строки и столбцы индексируются метками, а не только числовыми значениями\n",
    "# Series, DataFrame, Index"
   ]
  },
  {
   "cell_type": "code",
   "execution_count": 5,
   "metadata": {},
   "outputs": [
    {
     "name": "stdout",
     "output_type": "stream",
     "text": [
      "0    0.25\n",
      "1    0.50\n",
      "2    0.75\n",
      "3    1.00\n",
      "dtype: float64\n",
      "<class 'pandas.core.series.Series'>\n",
      "[0.25 0.5  0.75 1.  ]\n",
      "RangeIndex(start=0, stop=4, step=1)\n",
      "<class 'numpy.ndarray'>\n",
      "<class 'pandas.core.indexes.range.RangeIndex'>\n"
     ]
    }
   ],
   "source": [
    "#Series\n",
    "data = pd.Series([0.25,0.5,0.75,1])\n",
    "print(data)\n",
    "print(type(data))\n",
    "\n",
    "print(data.values)\n",
    "print(data.index)\n",
    "\n",
    "print(type(data.values))\n",
    "print(type(data.index))"
   ]
  },
  {
   "cell_type": "code",
   "execution_count": 6,
   "metadata": {},
   "outputs": [
    {
     "name": "stdout",
     "output_type": "stream",
     "text": [
      "0.25\n",
      "1    0.50\n",
      "2    0.75\n",
      "dtype: float64\n"
     ]
    }
   ],
   "source": [
    "data = pd.Series([0.25,0.5,0.75,1])\n",
    "print(data[0])\n",
    "print(data[1:3])"
   ]
  },
  {
   "cell_type": "code",
   "execution_count": 7,
   "metadata": {},
   "outputs": [
    {
     "name": "stdout",
     "output_type": "stream",
     "text": [
      "a    0.25\n",
      "b    0.50\n",
      "c    0.75\n",
      "d    1.00\n",
      "dtype: float64\n",
      "0.25\n",
      "b    0.50\n",
      "c    0.75\n",
      "d    1.00\n",
      "dtype: float64\n"
     ]
    }
   ],
   "source": [
    "data = pd.Series([0.25,0.5,0.75,1], index = ['a','b','c', 'd'])\n",
    "print(data)\n",
    "print(data['a'])\n",
    "print(data['b':'d'])"
   ]
  },
  {
   "cell_type": "code",
   "execution_count": 8,
   "metadata": {},
   "outputs": [
    {
     "name": "stdout",
     "output_type": "stream",
     "text": [
      "<class 'pandas.core.indexes.base.Index'>\n"
     ]
    }
   ],
   "source": [
    "print(type(data.index))"
   ]
  },
  {
   "cell_type": "code",
   "execution_count": 9,
   "metadata": {},
   "outputs": [
    {
     "name": "stdout",
     "output_type": "stream",
     "text": [
      "1     0.25\n",
      "10    0.50\n",
      "7     0.75\n",
      "d     1.00\n",
      "dtype: float64\n",
      "0.25\n",
      "10    0.50\n",
      "7     0.75\n",
      "d     1.00\n",
      "dtype: float64\n"
     ]
    }
   ],
   "source": [
    "data = pd.Series([0.25,0.5,0.75,1], index = [1,10,7, 'd'])\n",
    "print(data)\n",
    "print(data[1])\n",
    "print(data[10:'d'])"
   ]
  },
  {
   "cell_type": "code",
   "execution_count": 10,
   "metadata": {},
   "outputs": [
    {
     "name": "stdout",
     "output_type": "stream",
     "text": [
      "city_1    1001\n",
      "city_2    1002\n",
      "city_3    1003\n",
      "city_4    1004\n",
      "city_5    1005\n",
      "dtype: int64\n",
      "1004\n",
      "city_4    1004\n",
      "city_5    1005\n",
      "dtype: int64\n"
     ]
    }
   ],
   "source": [
    "population_dict  ={\n",
    "    'city_1': 1001,\n",
    "    'city_2': 1002,\n",
    "    'city_3': 1003,\n",
    "    'city_4': 1004,\n",
    "    'city_5': 1005\n",
    "}\n",
    "poputation = pd.Series(population_dict)\n",
    "print(poputation)\n",
    "print(poputation['city_4'])\n",
    "print(poputation['city_4':'city_5'])"
   ]
  },
  {
   "cell_type": "code",
   "execution_count": 42,
   "metadata": {},
   "outputs": [
    {
     "name": "stdout",
     "output_type": "stream",
     "text": [
      "1. Создание объектов типа Series через списки Python\n",
      "city_1    1001\n",
      "city_2    1002\n",
      "city_3    1003\n",
      "city_4    1004\n",
      "city_5    1005\n",
      "Name: Population, dtype: int64\n",
      "\n",
      "2. Создание объектов типа Series через скалярные значения\n",
      "city_1    1000\n",
      "city_2    1000\n",
      "city_3    1000\n",
      "city_4    1000\n",
      "city_5    1000\n",
      "Name: Scalar, dtype: int64\n",
      "\n",
      "2. Создание объектов типа Series через словари\n",
      "city_1    1001\n",
      "city_2    1002\n",
      "city_3    1003\n",
      "city_4    1004\n",
      "city_5    1005\n",
      "Name: Population from Dict, dtype: int64\n"
     ]
    }
   ],
   "source": [
    "# 1. Привести различные способы создания объектов типа Series\n",
    "# Для создания Series можно использовать\n",
    "# - списки Python или массивы NumPy\n",
    "# - скалярные значение\n",
    "# - словари\n",
    "\n",
    "cities = ['city_1', 'city_2', 'city_3', 'city_4', 'city_5']\n",
    "population_values = [1001, 1002, 1003, 1004, 1005]\n",
    "area_values = [9991, 9992, 9993, 9994, 9995]\n",
    "\n",
    "\n",
    "print('1. Создание объектов типа Series через списки Python')\n",
    "s_population_list = pd.Series(data=population_values,index=cities, name='Population')\n",
    "print( s_population_list)\n",
    "print()\n",
    "\n",
    "print('2. Создание объектов типа Series через скалярные значения')\n",
    "s_scalar = pd.Series(data=1000, index=cities, name='Scalar')\n",
    "print( s_scalar)\n",
    "print()\n",
    "\n",
    "print('2. Создание объектов типа Series через словари')\n",
    "population_dict = {\n",
    "    'city_1': 1001,\n",
    "    'city_2': 1002,\n",
    "    'city_3': 1003,\n",
    "    'city_4': 1004,\n",
    "    'city_5': 1005\n",
    "}\n",
    "s_population_dict = pd.Series(data=population_dict, name='Population from Dict')\n",
    "print( s_population_dict)\n"
   ]
  },
  {
   "cell_type": "code",
   "execution_count": 12,
   "metadata": {},
   "outputs": [
    {
     "name": "stdout",
     "output_type": "stream",
     "text": [
      "city_1    1001\n",
      "city_2    1002\n",
      "city_3    1003\n",
      "city_4    1004\n",
      "city_5    1005\n",
      "dtype: int64\n",
      "city_1    9991\n",
      "city_2    9992\n",
      "city_3    9993\n",
      "city_4    9994\n",
      "city_5    9995\n",
      "dtype: int64\n"
     ]
    }
   ],
   "source": [
    "## DataFrame - двумерный массив с явно опрделенными индексами. Последовательность согласованных объектов Series.\n",
    "population_dict  ={\n",
    "    'city_1': 1001,\n",
    "    'city_2': 1002,\n",
    "    'city_3': 1003,\n",
    "    'city_4': 1004,\n",
    "    'city_5': 1005\n",
    "}\n",
    "\n",
    "area_dict  ={\n",
    "    'city_1': 9991,\n",
    "    'city_2': 9992,\n",
    "    'city_3': 9993,\n",
    "    'city_4': 9994,\n",
    "    'city_5': 9995\n",
    "}\n",
    "population = pd.Series(population_dict)\n",
    "area = pd.Series(area_dict)\n",
    "print(poputation)\n",
    "print(area)"
   ]
  },
  {
   "cell_type": "code",
   "execution_count": 13,
   "metadata": {},
   "outputs": [
    {
     "name": "stdout",
     "output_type": "stream",
     "text": [
      "        poputation1  area1\n",
      "city_1         1001   9991\n",
      "city_2         1002   9992\n",
      "city_3         1003   9993\n",
      "city_4         1004   9994\n",
      "city_5         1005   9995\n",
      "[[1001 9991]\n",
      " [1002 9992]\n",
      " [1003 9993]\n",
      " [1004 9994]\n",
      " [1005 9995]]\n",
      "Index(['city_1', 'city_2', 'city_3', 'city_4', 'city_5'], dtype='object')\n",
      "Index(['poputation1', 'area1'], dtype='object')\n",
      "<class 'numpy.ndarray'>\n",
      "<class 'pandas.core.indexes.base.Index'>\n",
      "<class 'pandas.core.indexes.base.Index'>\n"
     ]
    }
   ],
   "source": [
    "states = pd.DataFrame({\n",
    "    'poputation1':population,\n",
    "    'area1': area\n",
    "})\n",
    "print(states)\n",
    "print(states.values)\n",
    "print(states.index)\n",
    "print(states.columns)\n",
    "print(type(states.values))\n",
    "print(type(states.index))\n",
    "print(type(states.columns))"
   ]
  },
  {
   "cell_type": "code",
   "execution_count": 14,
   "metadata": {},
   "outputs": [
    {
     "name": "stdout",
     "output_type": "stream",
     "text": [
      "city_1    9991\n",
      "city_2    9992\n",
      "city_3    9993\n",
      "city_4    9994\n",
      "city_5    9995\n",
      "Name: area1, dtype: int64\n"
     ]
    }
   ],
   "source": [
    "print(states['area1'])"
   ]
  },
  {
   "cell_type": "code",
   "execution_count": 40,
   "metadata": {},
   "outputs": [
    {
     "name": "stdout",
     "output_type": "stream",
     "text": [
      "1. Cоздание объектов типа DataFrame через объекты Series \n",
      "        poputation1  area1\n",
      "city_1         1001   9991\n",
      "city_2         1002   9992\n",
      "city_3         1003   9993\n",
      "city_4         1004   9994\n",
      "city_5         1005   9995\n",
      "\n",
      "2. Cоздание объектов типа DataFrame через списки словарей \n",
      "        population  area\n",
      "city                    \n",
      "city_1        1001  9991\n",
      "city_2        1002  9992\n",
      "city_3        1003  9993\n",
      "city_4        1004  9994\n",
      "city_5        1005  9995\n",
      "\n",
      "3. Cоздание объектов типа DataFrame через словари объектов Series \n",
      "        population  area\n",
      "city_1        1001  9991\n",
      "city_2        1002  9992\n",
      "city_3        1003  9993\n",
      "city_4        1004  9994\n",
      "city_5        1005  9995\n",
      "\n",
      "4. Cоздание объектов типа DataFrame через двумерный массив NumPy \n",
      "        population  area\n",
      "city_1        1001  9991\n",
      "city_2        1002  9992\n",
      "city_3        1003  9993\n",
      "city_4        1004  9994\n",
      "city_5        1005  9995\n",
      "\n",
      "5. Cоздание объектов типа DataFrame через структурированный массив Numpy \n",
      "        population  area\n",
      "city_1        1001  9991\n",
      "city_2        1002  9992\n",
      "city_3        1003  9993\n",
      "city_4        1004  9994\n",
      "city_5        1005  9995\n",
      "\n"
     ]
    }
   ],
   "source": [
    "# 2. Привести различные способы создания объектов типа DataFrame\n",
    "# DataFrame. Способы создания\n",
    "# - через объекты Series\n",
    "# - списки словарей\n",
    "# - словари объектов Series\n",
    "# - двумерный массив NumPy\n",
    "# - структурированный массив Numpy\n",
    "\n",
    "print('1. Cоздание объектов типа DataFrame через объекты Series ')\n",
    "population_dict  ={\n",
    "    'city_1': 1001,\n",
    "    'city_2': 1002,\n",
    "    'city_3': 1003,\n",
    "    'city_4': 1004,\n",
    "    'city_5': 1005\n",
    "}\n",
    "area_dict  ={\n",
    "    'city_1': 9991,\n",
    "    'city_2': 9992,\n",
    "    'city_3': 9993,\n",
    "    'city_4': 9994,\n",
    "    'city_5': 9995\n",
    "}\n",
    "population = pd.Series(population_dict)\n",
    "area = pd.Series(area_dict)\n",
    "states = pd.DataFrame({\n",
    "    'poputation1':population,\n",
    "    'area1': area\n",
    "})\n",
    "print(states)\n",
    "print()\n",
    "\n",
    "print('2. Cоздание объектов типа DataFrame через списки словарей ')\n",
    "data = [\n",
    "    {'city': 'city_1', 'population': 1001, 'area': 9991},\n",
    "    {'city': 'city_2', 'population': 1002, 'area': 9992},\n",
    "    {'city': 'city_3', 'population': 1003, 'area': 9993},\n",
    "    {'city': 'city_4', 'population': 1004, 'area': 9994},\n",
    "    {'city': 'city_5', 'population': 1005, 'area': 9995}\n",
    "]\n",
    "\n",
    "df = pd.DataFrame(data).set_index('city')\n",
    "print(df)\n",
    "print()\n",
    "\n",
    "print('3. Cоздание объектов типа DataFrame через словари объектов Series ')\n",
    "data = {\n",
    "    'population': [1001, 1002, 1003, 1004, 1005],\n",
    "    'area': [9991, 9992, 9993, 9994, 9995]\n",
    "}\n",
    "\n",
    "df = pd.DataFrame(data, index=['city_1', 'city_2', 'city_3', 'city_4', 'city_5'])\n",
    "print(df)\n",
    "print()\n",
    "\n",
    "print('4. Cоздание объектов типа DataFrame через двумерный массив NumPy ')\n",
    "arr = np.array([\n",
    "    [1001, 9991],\n",
    "    [1002, 9992],\n",
    "    [1003, 9993],\n",
    "    [1004, 9994],\n",
    "    [1005, 9995]\n",
    "])\n",
    "\n",
    "df = pd.DataFrame(arr, columns=['population', 'area'], index=[f'city_{i+1}' for i in range(5)])\n",
    "print(df)\n",
    "print()\n",
    "\n",
    "print('5. Cоздание объектов типа DataFrame через структурированный массив Numpy ')\n",
    "dtype = [('population', int), ('area', int)]\n",
    "arr = np.array([(1001, 9991), (1002, 9992), (1003, 9993), (1004, 9994), (1005, 9995)],dtype=dtype)\n",
    "\n",
    "df = pd.DataFrame(arr, index=[f'city_{i+1}' for i in range(5)])\n",
    "print(df)\n",
    "print()\n"
   ]
  },
  {
   "cell_type": "code",
   "execution_count": 16,
   "metadata": {},
   "outputs": [
    {
     "name": "stdout",
     "output_type": "stream",
     "text": [
      "3\n",
      "Index([2, 5], dtype='int64')\n",
      "Index([1, 2, 3, 4, 5], dtype='int64')\n"
     ]
    }
   ],
   "source": [
    "#Index - способ организации ссылки на данные объектов Series и DataFrame. Index - неизменяем, упорядочен, явялется мультимножеством(повторяющиеся значения)\n",
    "ind = pd.Index([2,3,5,7])\n",
    "print(ind[1])\n",
    "print(ind[::2])\n",
    "# Index следует соглашениям объекта set()\n",
    "\n",
    "indA = pd.Index([1,2,3,4,5])\n",
    "indB = pd.Index([1,2,3,4,5,6])\n",
    "print(indA.intersection(indB))\n"
   ]
  },
  {
   "cell_type": "code",
   "execution_count": 17,
   "metadata": {},
   "outputs": [
    {
     "name": "stdout",
     "output_type": "stream",
     "text": [
      "True\n",
      "False\n",
      "Index(['a', 'b', 'c', 'd'], dtype='object')\n",
      "[('a', 0.25), ('b', 0.5), ('c', 0.75), ('d', 1.0)]\n"
     ]
    }
   ],
   "source": [
    "# выбрка данных из Series\n",
    "data = pd.Series([0.25,0.5,0.75,1], index = ['a','b','c', 'd'])\n",
    "print('a' in data)\n",
    "print('z' in data)\n",
    "print(data.keys())\n",
    "\n",
    "print(list(data.items()))"
   ]
  },
  {
   "cell_type": "code",
   "execution_count": 18,
   "metadata": {},
   "outputs": [
    {
     "name": "stdout",
     "output_type": "stream",
     "text": [
      "a     100.00\n",
      "b       0.50\n",
      "c       0.75\n",
      "d       1.00\n",
      "z    1000.00\n",
      "dtype: float64\n"
     ]
    }
   ],
   "source": [
    "data['a'] = 100\n",
    "data ['z'] = 1000\n",
    "print(data)\n",
    "## как одномерный массив\n"
   ]
  },
  {
   "cell_type": "code",
   "execution_count": 19,
   "metadata": {},
   "outputs": [
    {
     "name": "stdout",
     "output_type": "stream",
     "text": [
      "a    0.25\n",
      "b    0.50\n",
      "c    0.75\n",
      "dtype: float64\n",
      "a    0.25\n",
      "b    0.50\n",
      "dtype: float64\n",
      "c    0.75\n",
      "dtype: float64\n",
      "a    0.25\n",
      "d    1.00\n",
      "dtype: float64\n"
     ]
    }
   ],
   "source": [
    "data = pd.Series([0.25,0.5,0.75,1], index = ['a','b','c', 'd'])\n",
    "print(data['a':'c'])\n",
    "print(data[0:2])\n",
    "print(data[(data > 0.5) & (data < 1)])\n",
    "print(data[['a', 'd']])"
   ]
  },
  {
   "cell_type": "code",
   "execution_count": 20,
   "metadata": {},
   "outputs": [
    {
     "name": "stdout",
     "output_type": "stream",
     "text": [
      "0.25\n",
      "0.25\n",
      "0.5\n"
     ]
    }
   ],
   "source": [
    "data = pd.Series([0.25,0.5,0.75,1], index = [1, 3, 10, 15])\n",
    "print(data[1])\n",
    "print(data.loc[1])\n",
    "print(data.iloc[1])"
   ]
  },
  {
   "cell_type": "code",
   "execution_count": 21,
   "metadata": {},
   "outputs": [
    {
     "name": "stdout",
     "output_type": "stream",
     "text": [
      "        area1  pop1   pop\n",
      "city_1   9991  1001  1001\n",
      "city_2   9992  1002  1002\n",
      "city_3   9993  1003  1003\n",
      "city_4   9994  1004  1004\n",
      "city_5   9995  1005  1005\n",
      "city_1    9991\n",
      "city_2    9992\n",
      "city_3    9993\n",
      "city_4    9994\n",
      "city_5    9995\n",
      "Name: area1, dtype: int64\n",
      "city_1    9991\n",
      "city_2    9992\n",
      "city_3    9993\n",
      "city_4    9994\n",
      "city_5    9995\n",
      "Name: area1, dtype: int64\n"
     ]
    }
   ],
   "source": [
    "# выбрка данных из DataFrame\n",
    "population_dict  ={\n",
    "    'city_1': 1001,\n",
    "    'city_2': 1002,\n",
    "    'city_3': 1003,\n",
    "    'city_4': 1004,\n",
    "    'city_5': 1005\n",
    "}\n",
    "\n",
    "area_dict  ={\n",
    "    'city_1': 9991,\n",
    "    'city_2': 9992,\n",
    "    'city_3': 9993,\n",
    "    'city_4': 9994,\n",
    "    'city_5': 9995\n",
    "}\n",
    "\n",
    "pop = pd.Series({\n",
    "    'city_1': 1001,\n",
    "    'city_2': 1002,\n",
    "    'city_3': 1003,\n",
    "    'city_4': 1004,\n",
    "    'city_5': 1005\n",
    "})\n",
    "area = pd.Series({\n",
    "    'city_1': 9991,\n",
    "    'city_2': 9992,\n",
    "    'city_3': 9993,\n",
    "    'city_4': 9994,\n",
    "    'city_5': 9995\n",
    "})\n",
    "data = pd.DataFrame({'area1':area,'pop1':pop, 'pop': pop })\n",
    "print(data)\n",
    "print(data['area1'])\n",
    "print(data.area1)"
   ]
  },
  {
   "cell_type": "code",
   "execution_count": 22,
   "metadata": {},
   "outputs": [
    {
     "name": "stdout",
     "output_type": "stream",
     "text": [
      "True\n",
      "False\n"
     ]
    }
   ],
   "source": [
    "print(data.pop1 is data['pop1'])\n",
    "print(data.pop is data['pop'])"
   ]
  },
  {
   "cell_type": "code",
   "execution_count": 23,
   "metadata": {},
   "outputs": [
    {
     "name": "stdout",
     "output_type": "stream",
     "text": [
      "        area1  pop1   pop   new      new1\n",
      "city_1   9991  1001  1001  9991  9.981019\n",
      "city_2   9992  1002  1002  9992  9.972056\n",
      "city_3   9993  1003  1003  9993  9.963111\n",
      "city_4   9994  1004  1004  9994  9.954183\n",
      "city_5   9995  1005  1005  9995  9.945274\n"
     ]
    }
   ],
   "source": [
    "data['new'] = data['area1']\n",
    "data['new1'] = data['area1'] / data['pop1']\n",
    "print(data)\n",
    "\n",
    "# двумерный NumPy массив"
   ]
  },
  {
   "cell_type": "code",
   "execution_count": 24,
   "metadata": {},
   "outputs": [
    {
     "name": "stdout",
     "output_type": "stream",
     "text": [
      "        area1  pop1\n",
      "city_1   9991  1001\n",
      "city_2   9992  1002\n",
      "city_3   9993  1003\n",
      "city_4   9994  1004\n",
      "city_5   9995  1005\n",
      "[[9991 1001]\n",
      " [9992 1002]\n",
      " [9993 1003]\n",
      " [9994 1004]\n",
      " [9995 1005]]\n",
      "       city_1  city_2  city_3  city_4  city_5\n",
      "area1    9991    9992    9993    9994    9995\n",
      "pop1     1001    1002    1003    1004    1005\n",
      "city_1    9991\n",
      "city_2    9992\n",
      "city_3    9993\n",
      "city_4    9994\n",
      "city_5    9995\n",
      "Name: area1, dtype: int64\n",
      "[9991 1001]\n"
     ]
    }
   ],
   "source": [
    "pop = pd.Series({\n",
    "    'city_1': 1001,\n",
    "    'city_2': 1002,\n",
    "    'city_3': 1003,\n",
    "    'city_4': 1004,\n",
    "    'city_5': 1005\n",
    "})\n",
    "area = pd.Series({\n",
    "    'city_1': 9991,\n",
    "    'city_2': 9992,\n",
    "    'city_3': 9993,\n",
    "    'city_4': 9994,\n",
    "    'city_5': 9995\n",
    "})\n",
    "data = pd.DataFrame({'area1':area,'pop1':pop })\n",
    "print(data)\n",
    "print(data.values)\n",
    "print(data.T)\n",
    "print(data['area1'])\n",
    "print(data.values[0])"
   ]
  },
  {
   "cell_type": "code",
   "execution_count": 25,
   "metadata": {},
   "outputs": [
    {
     "name": "stdout",
     "output_type": "stream",
     "text": [
      "        area1  pop1   pop\n",
      "city_1   9991  1001  1001\n",
      "city_2   9992  1002  1002\n",
      "city_3   9993  1003  1003\n",
      "city_4   9994  1004  1004\n",
      "city_5   9995  1005  1005\n",
      "        pop1\n",
      "city_1  1001\n",
      "city_2  1002\n",
      "city_3  1003\n",
      "        pop1   pop\n",
      "city_1  1001  1001\n",
      "city_2  1002  1002\n",
      "city_3  1003  1003\n",
      "city_4  1004  1004\n",
      "        area1   pop\n",
      "city_3   9993  1003\n",
      "city_4   9994  1004\n",
      "city_5   9995  1005\n",
      "        area1  pop1    pop\n",
      "city_1   9991  1001  99999\n",
      "city_2   9992  1002   1002\n",
      "city_3   9993  1003   1003\n",
      "city_4   9994  1004   1004\n",
      "city_5   9995  1005   1005\n"
     ]
    }
   ],
   "source": [
    "# атрибуты - индексаторы\n",
    "data = pd.DataFrame({'area1':area,'pop1':pop, 'pop': pop })\n",
    "print(data)\n",
    "print(data.iloc[:3, 1:2])\n",
    "print(data.loc[:'city_4', 'pop1':'pop'])\n",
    "print(data.loc[data['pop'] > 1002, ['area1', 'pop']])\n",
    "data.iloc[0,2] = 99999\n",
    "print(data)"
   ]
  },
  {
   "cell_type": "code",
   "execution_count": 26,
   "metadata": {},
   "outputs": [
    {
     "name": "stdout",
     "output_type": "stream",
     "text": [
      "0    3\n",
      "1    9\n",
      "2    4\n",
      "3    5\n",
      "dtype: int64\n",
      "0      20.085537\n",
      "1    8103.083928\n",
      "2      54.598150\n",
      "3     148.413159\n",
      "dtype: float64\n"
     ]
    }
   ],
   "source": [
    "rng = np.random.default_rng()\n",
    "s = pd.Series(rng.integers(0,10,4))\n",
    "print(s)\n",
    "print(np.exp(s))"
   ]
  },
  {
   "cell_type": "code",
   "execution_count": 27,
   "metadata": {},
   "outputs": [
    {
     "name": "stdout",
     "output_type": "stream",
     "text": [
      "          area1    pop1\n",
      "city_1   9991.0  1001.0\n",
      "city_2   9992.0  1002.0\n",
      "city_3   9993.0  1003.0\n",
      "city_41     NaN  1004.0\n",
      "city_42  9994.0     NaN\n",
      "city_51     NaN  1005.0\n",
      "city_52  9995.0     NaN\n"
     ]
    }
   ],
   "source": [
    "pop = pd.Series({\n",
    "    'city_1': 1001,\n",
    "    'city_2': 1002,\n",
    "    'city_3': 1003,\n",
    "    'city_41': 1004,\n",
    "    'city_51': 1005\n",
    "})\n",
    "area = pd.Series({\n",
    "    'city_1': 9991,\n",
    "    'city_2': 9992,\n",
    "    'city_3': 9993,\n",
    "    'city_42': 9994,\n",
    "    'city_52': 9995\n",
    "})\n",
    "data = pd.DataFrame({'area1':area,'pop1':pop })\n",
    "print(data)"
   ]
  },
  {
   "cell_type": "code",
   "execution_count": 44,
   "metadata": {},
   "outputs": [
    {
     "name": "stdout",
     "output_type": "stream",
     "text": [
      "          area1    pop1\n",
      "city_1   9991.0  1001.0\n",
      "city_2   9992.0  1002.0\n",
      "city_3   9993.0  1003.0\n",
      "city_41     1.0  1004.0\n",
      "city_42  9994.0     1.0\n",
      "city_51     1.0  1005.0\n",
      "city_52  9995.0     1.0\n"
     ]
    }
   ],
   "source": [
    "# 3. Объедините два объекта Series с неодинаковыми множествами ключей (индексов) так, чтобы вместо NaN было установлено значение 1\n",
    "\n",
    "pop = pd.Series({\n",
    "    'city_1': 1001,\n",
    "    'city_2': 1002,\n",
    "    'city_3': 1003,\n",
    "    'city_41': 1004,\n",
    "    'city_51': 1005\n",
    "})\n",
    "\n",
    "area = pd.Series({\n",
    "    'city_1': 9991,\n",
    "    'city_2': 9992,\n",
    "    'city_3': 9993,\n",
    "    'city_42': 9994,\n",
    "    'city_52': 9995\n",
    "})\n",
    "\n",
    "data = pd.DataFrame({'area1': area, 'pop1': pop}).fillna(1)\n",
    "print(data)"
   ]
  },
  {
   "cell_type": "code",
   "execution_count": 29,
   "metadata": {},
   "outputs": [
    {
     "name": "stdout",
     "output_type": "stream",
     "text": [
      "   a  b\n",
      "0  3  6\n",
      "1  7  6\n",
      "   a  b  c\n",
      "0  6  8  6\n",
      "1  1  6  1\n",
      "2  8  7  2\n",
      "     a     b   c\n",
      "0  9.0  14.0 NaN\n",
      "1  8.0  12.0 NaN\n",
      "2  NaN   NaN NaN\n"
     ]
    }
   ],
   "source": [
    "dfA = pd.DataFrame(rng.integers(0,10,(2,2)), columns=['a','b'])\n",
    "dfB = pd.DataFrame(rng.integers(0,10,(3,3)), columns=['a','b', 'c'])\n",
    "\n",
    "print(dfA)\n",
    "print(dfB)\n",
    "print(dfA + dfB)"
   ]
  },
  {
   "cell_type": "code",
   "execution_count": 30,
   "metadata": {},
   "outputs": [
    {
     "name": "stdout",
     "output_type": "stream",
     "text": [
      "[4 5 7 9]\n",
      "[[ 0  0  0  0]\n",
      " [-4 -4  1  0]\n",
      " [-2 -2  1 -5]]\n"
     ]
    }
   ],
   "source": [
    "rng = np.random.default_rng(1)\n",
    "A = rng.integers(0, 10, (3,4))\n",
    "print(A[0])\n",
    "print(A - A[0])"
   ]
  },
  {
   "cell_type": "code",
   "execution_count": 46,
   "metadata": {},
   "outputs": [
    {
     "name": "stdout",
     "output_type": "stream",
     "text": [
      "   a  b  c  d\n",
      "0  2  8  2  4\n",
      "1  6  5  0  0\n",
      "2  8  7  8  5\n",
      "a    2\n",
      "b    8\n",
      "c    2\n",
      "d    4\n",
      "Name: 0, dtype: int64\n",
      "   a  b  c  d\n",
      "0  0  0  0  0\n",
      "1  4 -3 -2 -4\n",
      "2  6 -1  6  1\n",
      "a    2\n",
      "c    2\n",
      "Name: 0, dtype: int64\n",
      "     a   b    c   d\n",
      "0  0.0 NaN  0.0 NaN\n",
      "1  4.0 NaN -2.0 NaN\n",
      "2  6.0 NaN  6.0 NaN\n"
     ]
    }
   ],
   "source": [
    "df = pd.DataFrame(A, columns=['a', 'b', 'c', 'd'])\n",
    "print(df)\n",
    "print(df.iloc[0])\n",
    "print(df - df.iloc[0])\n",
    "print(df.iloc[0, ::2])\n",
    "print(df - df.iloc[0, ::2])"
   ]
  },
  {
   "cell_type": "code",
   "execution_count": 59,
   "metadata": {},
   "outputs": [
    {
     "name": "stdout",
     "output_type": "stream",
     "text": [
      "DataFrame:\n",
      "   a  b  c  d\n",
      "0  8  8  3  0\n",
      "1  7  8  4  1\n",
      "2  1  3  7  3\n",
      "Первый столбец:\n",
      "0    8\n",
      "1    7\n",
      "2    1\n",
      "Name: a, dtype: int64\n",
      "Вычитание по столбцам:\n",
      "   a  b  c  d\n",
      "0  0  0 -5 -8\n",
      "1  0  1 -3 -6\n",
      "2  0  2  6  2\n"
     ]
    }
   ],
   "source": [
    "# 4. Переписать пример с транслирование для DataFrame так, чтобы вычитание происходило по СТОЛБЦАМ\n",
    "\n",
    "A = rng.integers(0, 10, (3,4))\n",
    "df = pd.DataFrame(A, columns=['a', 'b', 'c', 'd'])\n",
    "\n",
    "print(\"DataFrame:\")\n",
    "print(df)\n",
    "\n",
    "print(\"Первый столбец:\")\n",
    "print(df.iloc[:, 0])\n",
    "\n",
    "print(\"Вычитание по столбцам:\")\n",
    "print(df.sub(df.iloc[:, 0], axis=0))"
   ]
  },
  {
   "cell_type": "code",
   "execution_count": 33,
   "metadata": {},
   "outputs": [
    {
     "name": "stdout",
     "output_type": "stream",
     "text": [
      "6\n"
     ]
    }
   ],
   "source": [
    "# NA  -значения: NaN, null\n",
    "\n",
    "\n",
    "# Pandas. два способа хранения отсут. значений\n",
    "# индикаторы NaN, None\n",
    "# null\n",
    "\n",
    "# None - объект(накладные расходы). Не работает с sum, min\n",
    "val = np.array([1,2,3])\n",
    "print(val.sum())"
   ]
  },
  {
   "cell_type": "code",
   "execution_count": 34,
   "metadata": {},
   "outputs": [
    {
     "ename": "TypeError",
     "evalue": "unsupported operand type(s) for +: 'int' and 'NoneType'",
     "output_type": "error",
     "traceback": [
      "\u001b[1;31m---------------------------------------------------------------------------\u001b[0m",
      "\u001b[1;31mTypeError\u001b[0m                                 Traceback (most recent call last)",
      "Cell \u001b[1;32mIn[34], line 2\u001b[0m\n\u001b[0;32m      1\u001b[0m val \u001b[38;5;241m=\u001b[39m np\u001b[38;5;241m.\u001b[39marray([\u001b[38;5;241m1\u001b[39m,\u001b[38;5;241m2\u001b[39m,\u001b[38;5;241m3\u001b[39m, \u001b[38;5;28;01mNone\u001b[39;00m])\n\u001b[1;32m----> 2\u001b[0m \u001b[38;5;28mprint\u001b[39m(\u001b[43mval\u001b[49m\u001b[38;5;241;43m.\u001b[39;49m\u001b[43msum\u001b[49m\u001b[43m(\u001b[49m\u001b[43m)\u001b[49m)\n",
      "File \u001b[1;32mc:\\Users\\admin\\AppData\\Local\\Programs\\Python\\Python312\\Lib\\site-packages\\numpy\\_core\\_methods.py:53\u001b[0m, in \u001b[0;36m_sum\u001b[1;34m(a, axis, dtype, out, keepdims, initial, where)\u001b[0m\n\u001b[0;32m     51\u001b[0m \u001b[38;5;28;01mdef\u001b[39;00m \u001b[38;5;21m_sum\u001b[39m(a, axis\u001b[38;5;241m=\u001b[39m\u001b[38;5;28;01mNone\u001b[39;00m, dtype\u001b[38;5;241m=\u001b[39m\u001b[38;5;28;01mNone\u001b[39;00m, out\u001b[38;5;241m=\u001b[39m\u001b[38;5;28;01mNone\u001b[39;00m, keepdims\u001b[38;5;241m=\u001b[39m\u001b[38;5;28;01mFalse\u001b[39;00m,\n\u001b[0;32m     52\u001b[0m          initial\u001b[38;5;241m=\u001b[39m_NoValue, where\u001b[38;5;241m=\u001b[39m\u001b[38;5;28;01mTrue\u001b[39;00m):\n\u001b[1;32m---> 53\u001b[0m     \u001b[38;5;28;01mreturn\u001b[39;00m \u001b[43mumr_sum\u001b[49m\u001b[43m(\u001b[49m\u001b[43ma\u001b[49m\u001b[43m,\u001b[49m\u001b[43m \u001b[49m\u001b[43maxis\u001b[49m\u001b[43m,\u001b[49m\u001b[43m \u001b[49m\u001b[43mdtype\u001b[49m\u001b[43m,\u001b[49m\u001b[43m \u001b[49m\u001b[43mout\u001b[49m\u001b[43m,\u001b[49m\u001b[43m \u001b[49m\u001b[43mkeepdims\u001b[49m\u001b[43m,\u001b[49m\u001b[43m \u001b[49m\u001b[43minitial\u001b[49m\u001b[43m,\u001b[49m\u001b[43m \u001b[49m\u001b[43mwhere\u001b[49m\u001b[43m)\u001b[49m\n",
      "\u001b[1;31mTypeError\u001b[0m: unsupported operand type(s) for +: 'int' and 'NoneType'"
     ]
    }
   ],
   "source": [
    "val = np.array([1,2,3, None])\n",
    "print(val.sum())"
   ]
  },
  {
   "cell_type": "code",
   "execution_count": 60,
   "metadata": {},
   "outputs": [
    {
     "name": "stdout",
     "output_type": "stream",
     "text": [
      "[ 1.  2.  3. nan]\n",
      "nan\n",
      "6.0\n"
     ]
    }
   ],
   "source": [
    "val1 = np.array([1,2,3, np.nan])\n",
    "print(val1)\n",
    "print(val1.sum())\n",
    "print(np.nansum(val1))"
   ]
  },
  {
   "cell_type": "code",
   "execution_count": 61,
   "metadata": {},
   "outputs": [
    {
     "name": "stdout",
     "output_type": "stream",
     "text": [
      "0    0\n",
      "1    1\n",
      "2    2\n",
      "3    3\n",
      "4    4\n",
      "5    5\n",
      "6    6\n",
      "7    7\n",
      "8    8\n",
      "9    9\n",
      "dtype: int64\n",
      "0    NaN\n",
      "1    NaN\n",
      "2    2.0\n",
      "3    3.0\n",
      "4    4.0\n",
      "5    5.0\n",
      "6    6.0\n",
      "7    7.0\n",
      "8    8.0\n",
      "9    9.0\n",
      "dtype: float64\n"
     ]
    }
   ],
   "source": [
    "x = pd.Series(range(10), dtype = int)\n",
    "print(x)\n",
    "\n",
    "x[0] = None\n",
    "x[1]  =np.nan\n",
    "print(x)"
   ]
  },
  {
   "cell_type": "code",
   "execution_count": 62,
   "metadata": {},
   "outputs": [
    {
     "name": "stdout",
     "output_type": "stream",
     "text": [
      "0    a\n",
      "1    b\n",
      "2    c\n",
      "dtype: object\n",
      "0    None\n",
      "1     NaN\n",
      "2       c\n",
      "dtype: object\n"
     ]
    }
   ],
   "source": [
    "x1 = pd.Series(['a', 'b', 'c'])\n",
    "print(x1)\n",
    "\n",
    "x1[0] = None\n",
    "x1[1]  =np.nan\n",
    "print(x1)"
   ]
  },
  {
   "cell_type": "code",
   "execution_count": 63,
   "metadata": {},
   "outputs": [
    {
     "name": "stdout",
     "output_type": "stream",
     "text": [
      "0       1\n",
      "1       2\n",
      "2       3\n",
      "3     NaN\n",
      "4    None\n",
      "5    <NA>\n",
      "dtype: object\n"
     ]
    }
   ],
   "source": [
    "x2 = pd.Series([1,2,3, np.nan, None, pd.NA])\n",
    "print(x2)"
   ]
  },
  {
   "cell_type": "code",
   "execution_count": 64,
   "metadata": {},
   "outputs": [
    {
     "name": "stdout",
     "output_type": "stream",
     "text": [
      "0       1\n",
      "1       2\n",
      "2       3\n",
      "3    <NA>\n",
      "4    <NA>\n",
      "5    <NA>\n",
      "dtype: Int32\n"
     ]
    }
   ],
   "source": [
    "x3 = pd.Series([1,2,3, np.nan, None, pd.NA], dtype = 'Int32')\n",
    "print(x3)"
   ]
  },
  {
   "cell_type": "code",
   "execution_count": 65,
   "metadata": {},
   "outputs": [
    {
     "name": "stdout",
     "output_type": "stream",
     "text": [
      "0    False\n",
      "1    False\n",
      "2    False\n",
      "3     True\n",
      "4     True\n",
      "5     True\n",
      "dtype: bool\n",
      "3    <NA>\n",
      "4    <NA>\n",
      "5    <NA>\n",
      "dtype: Int32\n",
      "0    1\n",
      "1    2\n",
      "2    3\n",
      "dtype: Int32\n"
     ]
    }
   ],
   "source": [
    "print(x3.isnull())\n",
    "print(x3[x3.isnull()])\n",
    "print(x3[x3.notnull()])"
   ]
  },
  {
   "cell_type": "code",
   "execution_count": 66,
   "metadata": {},
   "outputs": [
    {
     "name": "stdout",
     "output_type": "stream",
     "text": [
      "0    1\n",
      "1    2\n",
      "2    3\n",
      "dtype: Int32\n"
     ]
    }
   ],
   "source": [
    "print(x3.dropna())"
   ]
  },
  {
   "cell_type": "code",
   "execution_count": 67,
   "metadata": {},
   "outputs": [
    {
     "name": "stdout",
     "output_type": "stream",
     "text": [
      "   0    1  2    3    4     5\n",
      "0  1  2.0  3  NaN  NaN  <NA>\n",
      "1  1  2.0  3  4.0  5.0     6\n",
      "2  1  NaN  3  4.0  NaN     6\n",
      "   0    1  2    3    4  5\n",
      "1  1  2.0  3  4.0  5.0  6\n",
      "\n",
      "   0    1  2    3    4  5\n",
      "1  1  2.0  3  4.0  5.0  6\n",
      "   0  2\n",
      "0  1  3\n",
      "1  1  3\n",
      "2  1  3\n"
     ]
    }
   ],
   "source": [
    "df =pd.DataFrame([\n",
    "    [1,2,3, np.nan, None, pd.NA],\n",
    "    [1,2,3,4,5,6],\n",
    "    [1, np.nan,3,4,np.nan,6]\n",
    "])\n",
    "print(df)\n",
    "print(df.dropna())\n",
    "print()\n",
    "print(df.dropna(axis = 0))\n",
    "print(df.dropna(axis = 1))"
   ]
  },
  {
   "cell_type": "code",
   "execution_count": 68,
   "metadata": {},
   "outputs": [
    {
     "name": "stdout",
     "output_type": "stream",
     "text": [
      "   0    1  2   3    4     5\n",
      "0  1  2.0  3 NaN  NaN  <NA>\n",
      "1  1  2.0  3 NaN  5.0     6\n",
      "2  1  NaN  3 NaN  NaN     6\n",
      "   0    1  2    4     5\n",
      "0  1  2.0  3  NaN  <NA>\n",
      "1  1  2.0  3  5.0     6\n",
      "2  1  NaN  3  NaN     6\n",
      "   0  2\n",
      "0  1  3\n",
      "1  1  3\n",
      "2  1  3\n",
      "   0    1  2     5\n",
      "0  1  2.0  3  <NA>\n",
      "1  1  2.0  3     6\n",
      "2  1  NaN  3     6\n"
     ]
    }
   ],
   "source": [
    "# how\n",
    "# all - все значания NA\n",
    "# any  - хотя бы одно значение\n",
    "# thresh = x, остается если присутствует миннимум x непустых значений\n",
    "df =pd.DataFrame([\n",
    "    [1,2,3, np.nan, None, pd.NA],\n",
    "    [1,2,3,None,5,6],\n",
    "    [1, np.nan,3,None,np.nan,6]\n",
    "])\n",
    "print(df)\n",
    "print(df.dropna(axis = 1, how = 'all'))\n",
    "print(df.dropna(axis = 1, how = 'any'))\n",
    "print(df.dropna(axis = 1, thresh = 2))"
   ]
  },
  {
   "cell_type": "code",
   "execution_count": 71,
   "metadata": {},
   "outputs": [
    {
     "name": "stdout",
     "output_type": "stream",
     "text": [
      "Исходный DataFrame:\n",
      "     A    B     C\n",
      "0  1.0  NaN  10.0\n",
      "1  NaN  7.0  20.0\n",
      "2  3.0  NaN   NaN\n",
      "3  NaN  9.0   NaN\n",
      "4  5.0  NaN  50.0\n",
      "После ffill():\n",
      "     A    B     C\n",
      "0  1.0  NaN  10.0\n",
      "1  1.0  7.0  20.0\n",
      "2  3.0  7.0  20.0\n",
      "3  3.0  9.0  20.0\n",
      "4  5.0  9.0  50.0\n",
      "После bfill():\n",
      "     A    B     C\n",
      "0  1.0  7.0  10.0\n",
      "1  3.0  7.0  20.0\n",
      "2  3.0  9.0  50.0\n",
      "3  5.0  9.0  50.0\n",
      "4  5.0  NaN  50.0\n"
     ]
    }
   ],
   "source": [
    "# 5. На примере объектов DataFrame продемонстрируйте использование методов ffill() и bfill()\n",
    "\n",
    "data = {\n",
    "    'A': [1, np.nan, 3, np.nan, 5],\n",
    "    'B': [np.nan, 7, np.nan, 9, np.nan],\n",
    "    'C': [10, 20, np.nan, np.nan, 50]\n",
    "}\n",
    "\n",
    "df = pd.DataFrame(data)\n",
    "print(\"Исходный DataFrame:\")\n",
    "print(df)\n",
    "\n",
    "# ffill() заполняет пропуски ПОСЛЕДНИМ известным значением сверху вниз:\n",
    "df1 = df.ffill()\n",
    "print(\"После ffill():\")\n",
    "print(df1)\n",
    "\n",
    "# bfill() заполняет пропуски СЛЕДУЮЩИМ известным значением снизу вверх:\n",
    "df2 = df.bfill()\n",
    "print(\"После bfill():\")\n",
    "print(df2)\n"
   ]
  }
 ],
 "metadata": {
  "kernelspec": {
   "display_name": "Python 3",
   "language": "python",
   "name": "python3"
  },
  "language_info": {
   "codemirror_mode": {
    "name": "ipython",
    "version": 3
   },
   "file_extension": ".py",
   "mimetype": "text/x-python",
   "name": "python",
   "nbconvert_exporter": "python",
   "pygments_lexer": "ipython3",
   "version": "3.12.4"
  }
 },
 "nbformat": 4,
 "nbformat_minor": 2
}
