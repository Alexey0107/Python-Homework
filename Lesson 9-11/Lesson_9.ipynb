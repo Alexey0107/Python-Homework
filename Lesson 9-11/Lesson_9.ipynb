{
 "cells": [
  {
   "cell_type": "markdown",
   "metadata": {},
   "source": [
    "## Lesson 9"
   ]
  },
  {
   "cell_type": "code",
   "execution_count": null,
   "metadata": {},
   "outputs": [],
   "source": [
    "#Машинное обучение\n",
    "\n",
    "# ML решает следующую задачу: Требуется подогнать заданный набор точек данными под соответствующую функцию (отображение входа на выход),\n",
    "# которая удлавливает важные сигналы и игнорирует помехи, а затем убедиться, что на новых данных функция работает хорошо.\n",
    "\n",
    "# Обучение с учителем (supervised learning)\n",
    "# Обучениеи без учителя (unsupervised learning)\n",
    "\n",
    "# Обучение с учителем моделирует отношение между признаками и метками.Такие модели служат для предсказания меток на основе обучающих данных маркированных.\n",
    "# После посторения модели можно использовать ее для присвоения меток новым, ранее неизвестным данным.\n",
    "\n",
    "# - задачи классфикации (метки - дискретные)\n",
    "# - задачи регресии (метки/результат непрерывные величины)\n",
    "\n",
    "\n",
    "# Обучение без учителя - моделируем признаки без меток. Такие модели служат для выявлени структуры немаркированных данных.\n",
    "\n",
    "# - задачи кластеризации (вылделяет отдельне группы данных)\n",
    "# - задача понижения размерности (поиск более сжатого представления данных)\n",
    "\n",
    "# Существует частичное обучение (semi-supervised learning). Метрики неполные - не все данные промаркированы.\n",
    "\n",
    "# Методы обучения с подкреплением (rainforcement learning). Система обучения улучшает свои характеристики на основе взаимодействия(обратной связи) со средой.\n",
    "# При этом взаимодействии система получает сигналы (функции наград), которые несут в себе информацию насколько хорошо/плохо система решила задачу(с точки зрения среды). Итоговая награда не станет максимальной.\n"
   ]
  },
  {
   "cell_type": "code",
   "execution_count": 9,
   "metadata": {},
   "outputs": [
    {
     "name": "stdout",
     "output_type": "stream",
     "text": [
      "   sepal_length  sepal_width  petal_length  petal_width species\n",
      "0           5.1          3.5           1.4          0.2  setosa\n",
      "1           4.9          3.0           1.4          0.2  setosa\n",
      "2           4.7          3.2           1.3          0.2  setosa\n",
      "3           4.6          3.1           1.5          0.2  setosa\n",
      "4           5.0          3.6           1.4          0.2  setosa\n",
      "<class 'pandas.core.frame.DataFrame'>\n",
      "<class 'numpy.ndarray'>\n",
      "(150, 5)\n",
      "Index(['sepal_length', 'sepal_width', 'petal_length', 'petal_width',\n",
      "       'species'],\n",
      "      dtype='object')\n",
      "RangeIndex(start=0, stop=150, step=1)\n"
     ]
    }
   ],
   "source": [
    "import seaborn as sns\n",
    "\n",
    "iris = sns.load_dataset('iris')\n",
    "print(iris.head())\n",
    "print(type(iris))\n",
    "print(type(iris.values))\n",
    "print(iris.values.shape)\n",
    "print(iris.columns)\n",
    "print(iris.index)\n",
    "\n",
    "#Строки - отдельные объекты - образцы(sample)\n",
    "# Столбцы - признаки(feature) - соотвествуют конкрутным наблюдениям\n",
    "# матрица признаков(feature matrix ) размер[число образцов*число признаков]\n",
    "# Целевой массив, массив меток(targets) - одномерный массив [1*число меток] - данные, которые мы хотим предсказать на основе имеющихся данных.\n",
    "#Завсисимые(метка) и независимые переменные(признаки)"
   ]
  },
  {
   "cell_type": "code",
   "execution_count": 10,
   "metadata": {},
   "outputs": [],
   "source": [
    "# Процесс построения системы машинного обучнения\n",
    "# 1. Предвариательная обработка\n",
    "# - необработанные данные и метки\n",
    "# - происхожит выбот признаков, при необходимости - масштабируются\n",
    "# - понижение размерности\n",
    "# - Выборка образцов\n",
    "# На выход набор данных: обучающий и тестовый наборы\n",
    "\n",
    "# 2. Обучение модели\n",
    "# - выбор модели\n",
    "# - перекрестная проверка\n",
    "# - метрики эффективности\n",
    "# - оптимизация гипрепараметров - параметры, которые оплучаются не из данных, а явялются настраиваемыми хар-ми.\n",
    "\n",
    "# 3. Оценка и формирование финальной модели\n",
    "\n",
    "# 4. Прогнозирование - использование модели\n",
    "\n",
    "# SciKit-learn\n",
    "\n",
    "# 1. Выбираем класс модели\n",
    "# 2. Устанавливаем гиперпараметры модели\n",
    "# 3. Создаем матрицу признаков и целевой массив\n",
    "# 4. Обучение модели fit()\n",
    "# 5. Применение модели к новым данным\n",
    "# predict() - с учителем\n",
    "# predict(), transform() - без учителя\n"
   ]
  },
  {
   "cell_type": "code",
   "execution_count": 1,
   "metadata": {},
   "outputs": [
    {
     "name": "stdout",
     "output_type": "stream",
     "text": [
      "<class 'numpy.ndarray'> <class 'numpy.ndarray'>\n",
      "(50,) (50,)\n",
      "2.0272088103606944\n",
      "-0.998577085553201\n"
     ]
    },
    {
     "data": {
      "text/plain": [
       "<matplotlib.collections.PathCollection at 0x27e336af920>"
      ]
     },
     "execution_count": 1,
     "metadata": {},
     "output_type": "execute_result"
    },
    {
     "data": {
      "image/png": "[encoded data removed]",
      "text/plain": [
       "<Figure size 640x480 with 1 Axes>"
      ]
     },
     "metadata": {},
     "output_type": "display_data"
    }
   ],
   "source": [
    "# Обучение с учителем (supervised learning)\n",
    "# - Линейная регрессия\n",
    "\n",
    "# у = ax + b\n",
    "\n",
    "import matplotlib.pyplot as plt\n",
    "import numpy as np\n",
    "\n",
    "np.random.seed(1)\n",
    "x = 10*np.random.rand(50)\n",
    "y = 2 * x -1 + np.random.randn(50)\n",
    "# II\n",
    "\n",
    "# 1. Выбираем класс модели\n",
    "from sklearn.linear_model import LinearRegression\n",
    "\n",
    "# 2. Устанавливаем гиперпараметры модели\n",
    "model = LinearRegression()\n",
    "# model = LinearRegression(fit_intercept=False)\n",
    "\n",
    "# 3. Создаем матрицу признаков и целевой массив\n",
    "print(type(x), type(y))\n",
    "print(y.shape, x.shape)\n",
    "X = x[:,np.newaxis]\n",
    "\n",
    "# 4. Обучение модели fit()\n",
    "model.fit(X,y)\n",
    "print(model.coef_[0])\n",
    "print(model.intercept_)\n",
    "\n",
    "x_ = np.linspace(0,10,30)\n",
    "y_ = model.coef_[0]*x_ + model.intercept_\n",
    "plt.plot(x_,y_)\n",
    "\n",
    "# 5. Применение модели к новым данным\n",
    "xfit = np.linspace(0,10,5)\n",
    "yfit = model.predict(xfit[:, np.newaxis])\n",
    "\n",
    "plt.scatter(x,y)\n",
    "plt.scatter(xfit,yfit)"
   ]
  }
 ],
 "metadata": {
  "kernelspec": {
   "display_name": "Python 3",
   "language": "python",
   "name": "python3"
  },
  "language_info": {
   "codemirror_mode": {
    "name": "ipython",
    "version": 3
   },
   "file_extension": ".py",
   "mimetype": "text/x-python",
   "name": "python",
   "nbconvert_exporter": "python",
   "pygments_lexer": "ipython3",
   "version": "3.12.4"
  }
 },
 "nbformat": 4,
 "nbformat_minor": 2
}
