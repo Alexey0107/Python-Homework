{
 "cells": [
  {
   "cell_type": "markdown",
   "metadata": {},
   "source": [
    "## Lesson 2"
   ]
  },
  {
   "cell_type": "code",
   "execution_count": null,
   "metadata": {},
   "outputs": [],
   "source": [
    "import numpy  as np"
   ]
  },
  {
   "cell_type": "code",
   "execution_count": 5,
   "metadata": {},
   "outputs": [
    {
     "name": "stdout",
     "output_type": "stream",
     "text": [
      "[0.51182162 0.9504637  0.14415961 0.94864945 0.31183145 0.42332645\n",
      " 0.82770259 0.40919914 0.54959369 0.02755911 0.75351311 0.53814331\n",
      " 0.32973172 0.7884287  0.30319483 0.45349789 0.1340417  0.40311299\n",
      " 0.20345524 0.26231334 0.75036467 0.28040876 0.48519097 0.9807372\n",
      " 0.96165719 0.72478994 0.54122686 0.2768912  0.16065201 0.96992541\n",
      " 0.51606859 0.11586561 0.62348976 0.77668311 0.6130033  0.9172977\n",
      " 0.03959288 0.52858926 0.45933588 0.06234958 0.64132817 0.85263284\n",
      " 0.59294102 0.26009745 0.83988152 0.50949588 0.51088888 0.75303021\n",
      " 0.14792204 0.81962672]\n",
      "25.985704258037675\n",
      "25.98570425803768\n"
     ]
    }
   ],
   "source": [
    "#Суммирование значений в массиве\n",
    "rng = np.random.default_rng(1)\n",
    "s = rng.random(50)\n",
    "\n",
    "print(s)\n",
    "print(sum(s))\n",
    "print(np.sum(s))"
   ]
  },
  {
   "cell_type": "code",
   "execution_count": 13,
   "metadata": {},
   "outputs": [
    {
     "name": "stdout",
     "output_type": "stream",
     "text": [
      "55\n",
      "[ 7  9 11 13 15]\n",
      "[15 40]\n",
      "\n",
      "1\n",
      "[1 2 3 4 5]\n",
      "[1 6]\n",
      "\n",
      "1\n",
      "[1 2 3 4 5]\n",
      "[1 6]\n",
      "\n",
      "1\n",
      "[1 2 3 4 5]\n",
      "[1 6]\n"
     ]
    }
   ],
   "source": [
    "a = np.array([\n",
    "    [1, 2, 3, 4, 5],\n",
    "    [6, 7, 8, 9, 10]\n",
    "])\n",
    "print(np.sum(a))\n",
    "print(np.sum(a, axis=0)) # rows\n",
    "print(np.sum(a, axis=1)) #colomns\n",
    "\n",
    "print()\n",
    "print(np.min(a))\n",
    "print(np.min(a, axis=0)) # rows\n",
    "print(np.min(a, axis=1)) #colomns\n",
    "\n",
    "print()\n",
    "print(a.min())\n",
    "print(a.min(0)) # rows\n",
    "print(a.min(1)) #colomns\n",
    "#Nan = Not a Number\n",
    "print()\n",
    "print(np.nanmin(a))\n",
    "print(np.nanmin(a, axis=0)) # rows\n",
    "print(np.nanmin(a, axis=1)) #colomns\n"
   ]
  },
  {
   "cell_type": "code",
   "execution_count": 76,
   "metadata": {},
   "outputs": [
    {
     "name": "stdout",
     "output_type": "stream",
     "text": [
      "[5 6 7]\n",
      "[5 6 7]\n",
      "[[ 5  6  7]\n",
      " [ 8  9 10]]\n",
      "[[0 1 2]\n",
      " [1 2 3]\n",
      " [2 3 4]]\n",
      "2 (2, 3)\n",
      "1 (1,)\n",
      "\n",
      "\n",
      "[[1. 1. 1.]\n",
      " [1. 1. 1.]]\n",
      "[0 1 2]\n",
      "2 (2, 3)\n",
      "1 (3,)\n",
      "[[1. 2. 3.]\n",
      " [1. 2. 3.]] (2, 3)\n",
      "\n",
      "\n",
      "[[0]\n",
      " [1]\n",
      " [2]]\n",
      "[0 1 2]\n",
      "2 (3, 1)\n",
      "1 (3,)\n",
      "[[0 1 2]\n",
      " [1 2 3]\n",
      " [2 3 4]] (3, 3)\n"
     ]
    }
   ],
   "source": [
    "#Broadcasting(транслирование)\n",
    "#Набор правил, которые позволяют осуществлять бинарные опреации, с массивами разных форм и размеров\n",
    "a = np.array([0, 1, 2])\n",
    "b = np.array([5, 5, 5])\n",
    "\n",
    "print(a+b)\n",
    "print(a+5)# 5 транислируетс я в массив, то етсь подстраивается под размр массива а\n",
    "\n",
    "a = np.array(([0, 1, 2], [3, 4, 5]))\n",
    "print(a+5)\n",
    "\n",
    "a = np.array([0, 1, 2])\n",
    "b = np.array(([0], [1], [2]))\n",
    "print(a+b)\n",
    "\n",
    "\n",
    "#Правила\n",
    "#1. если размерности массива отличаются, то форма массива с размерностью дополняется 1 с левой стороны\n",
    "#2. если формы массивов отличаются в каком то измерении , то если форма массива равна 1, то он растягивается до соответсвия формы второго массива\n",
    "#3. если в каком то измерении размеры отличаются и ни один из них не равен 1, то генерируется ошибка\n",
    "\n",
    "\n",
    "a = np.array(([0, 1, 2], [3,4,5]))\n",
    "b = np.array(([5]))\n",
    "print(a.ndim, a.shape)\n",
    "print(b.ndim, b.shape)\n",
    "\n",
    "# b(1,) -> (1,1) - > (2,3)\n",
    "print()\n",
    "print()\n",
    "\n",
    "a = np.ones((2,3))\n",
    "b = np.arange(3)\n",
    "print(a)\n",
    "print(b)\n",
    "print(a.ndim, a.shape)\n",
    "print(b.ndim, b.shape)\n",
    "\n",
    "# (2,3)    (2,3)     (2,3)\n",
    "# (3,1) -> (1,3) -> (2,3)\n",
    "c = a + b\n",
    "print(c, c.shape)\n",
    "\n",
    "\n",
    "print()\n",
    "print()\n",
    "a = np.arange(3).reshape((3,1))\n",
    "b = np.arange(3)\n",
    "\n",
    "print(a)\n",
    "print(b)\n",
    "\n",
    "print(a.ndim, a.shape)\n",
    "print(b.ndim, b.shape)\n",
    "\n",
    "# (3,1)   (3,1) -> (3,3)\n",
    "# (3,) -> (1,3) -> (3,3)\n",
    "c = a + b\n",
    "print(c, c.shape)\n",
    "\n",
    "# [ 0, 0, 0 ]   [ 0, 1, 2 ]\n",
    "# [ 1, 1, 1 ] + [ 0, 1, 2 ]\n",
    "# [ 2, 2, 2 ]   [ 0, 1, 2 ]\n"
   ]
  },
  {
   "cell_type": "code",
   "execution_count": 78,
   "metadata": {},
   "outputs": [
    {
     "name": "stdout",
     "output_type": "stream",
     "text": [
      "[[1. 1.]\n",
      " [1. 1.]\n",
      " [1. 1.]]\n",
      "[0 1 2]\n",
      "2 (3, 2)\n",
      "1 (3,)\n",
      "\n"
     ]
    },
    {
     "ename": "ValueError",
     "evalue": "operands could not be broadcast together with shapes (3,2) (3,) ",
     "output_type": "error",
     "traceback": [
      "\u001b[1;31m---------------------------------------------------------------------------\u001b[0m",
      "\u001b[1;31mValueError\u001b[0m                                Traceback (most recent call last)",
      "Cell \u001b[1;32mIn[78], line 13\u001b[0m\n\u001b[0;32m     10\u001b[0m \u001b[38;5;28mprint\u001b[39m(b\u001b[38;5;241m.\u001b[39mndim, b\u001b[38;5;241m.\u001b[39mshape)\n\u001b[0;32m     11\u001b[0m \u001b[38;5;28mprint\u001b[39m()\n\u001b[1;32m---> 13\u001b[0m c \u001b[38;5;241m=\u001b[39m \u001b[43ma\u001b[49m\u001b[43m \u001b[49m\u001b[38;5;241;43m+\u001b[39;49m\u001b[43m \u001b[49m\u001b[43mb\u001b[49m\n\u001b[0;32m     14\u001b[0m \u001b[38;5;28mprint\u001b[39m(c, c\u001b[38;5;241m.\u001b[39mshape)\n",
      "\u001b[1;31mValueError\u001b[0m: operands could not be broadcast together with shapes (3,2) (3,) "
     ]
    }
   ],
   "source": [
    "a = np.ones((3,2))\n",
    "b = np.arange(3)\n",
    "\n",
    "#2 (3,2)    (3,2)    (3,2)\n",
    "#1 (3,) - > (1,3) -> (3, 3)\n",
    "print(a)\n",
    "print(b)\n",
    "\n",
    "print(a.ndim, a.shape)\n",
    "print(b.ndim, b.shape)\n",
    "print()\n",
    "\n",
    "c = a + b\n",
    "print(c, c.shape)"
   ]
  },
  {
   "cell_type": "markdown",
   "metadata": {},
   "source": [
    "## 1. Что надо изменить в последнем примере, чтобы он заработал без ошибок (транслирование)?"
   ]
  },
  {
   "cell_type": "code",
   "execution_count": 81,
   "metadata": {},
   "outputs": [
    {
     "name": "stdout",
     "output_type": "stream",
     "text": [
      "[[1. 1.]\n",
      " [1. 1.]\n",
      " [1. 1.]]\n",
      "[0 1 2]\n",
      "2 (3, 2)\n",
      "1 (3,)\n",
      "\n",
      "[[0]\n",
      " [1]\n",
      " [2]]\n",
      "[[1. 1.]\n",
      " [2. 2.]\n",
      " [3. 3.]] (3, 2)\n"
     ]
    }
   ],
   "source": [
    "# изменить форму массива b так, чтобы она стала совместимой с формой a\n",
    "a = np.ones((3,2))\n",
    "b = np.arange(3)\n",
    "print(a)\n",
    "print(b)\n",
    "\n",
    "print(a.ndim, a.shape)\n",
    "print(b.ndim, b.shape)\n",
    "print()\n",
    "\n",
    "b = b[:, np.newaxis]\n",
    "print(b)\n",
    "c = a + b\n",
    "print(c, c.shape)"
   ]
  },
  {
   "cell_type": "code",
   "execution_count": 35,
   "metadata": {},
   "outputs": [
    {
     "name": "stdout",
     "output_type": "stream",
     "text": [
      "[5. 5. 5. 5. 5. 5. 5. 5. 5.]\n",
      "[[-4. -3. -2. -1.  0.  1.  2.  3.  4.]\n",
      " [ 4.  3.  2.  1.  0. -1. -2. -3. -4.]]\n",
      "[5. 5.]\n",
      "[[-4. -3. -2. -1.  0.  1.  2.  3.  4.]\n",
      " [ 4.  3.  2.  1.  0. -1. -2. -3. -4.]]\n"
     ]
    }
   ],
   "source": [
    "X = np.array([\n",
    "    [1,2,3,4,5,6,7,8,9],\n",
    "    [9,8,7,6,5,4,3,2,1]\n",
    "])\n",
    "Xmean0  = X.mean(0)\n",
    "print(Xmean0)\n",
    "Xcenter0 = X - Xmean0\n",
    "print(Xcenter0)\n",
    "\n",
    "Xmean1  = X.mean(1)\n",
    "print(Xmean1)\n",
    "Xmean1 = Xmean1[:, np.newaxis]\n",
    "Xcenter1 = X - Xmean1\n",
    "print(Xcenter1)"
   ]
  },
  {
   "cell_type": "code",
   "execution_count": 40,
   "metadata": {},
   "outputs": [
    {
     "name": "stdout",
     "output_type": "stream",
     "text": [
      "(50, 50)\n"
     ]
    },
    {
     "data": {
      "image/png": "[encoded data removed]",
      "text/plain": [
       "<Figure size 640x480 with 2 Axes>"
      ]
     },
     "metadata": {},
     "output_type": "display_data"
    }
   ],
   "source": [
    "x = np.linspace(0, 5, 50)\n",
    "y = np.linspace(0, 5, 50)[:, np.newaxis]\n",
    "\n",
    "z = np.sin(x)**3 + np.cos(20 + y*x) + np.sin(y)\n",
    "print(z.shape)\n",
    "\n",
    "import matplotlib.pyplot as plt\n",
    "\n",
    "plt.imshow(z)\n",
    "plt.colorbar()\n",
    "plt.show()"
   ]
  },
  {
   "cell_type": "code",
   "execution_count": 43,
   "metadata": {},
   "outputs": [
    {
     "name": "stdout",
     "output_type": "stream",
     "text": [
      "[ True  True False False False]\n",
      "[ True  True False False False]\n"
     ]
    }
   ],
   "source": [
    "x = np.array([1,2,3,4,5])\n",
    "y = np.array(([1,2,3,4,5], [6,7,8,9,10]))\n",
    "print(x < 3)\n",
    "print(np.less(x,3))"
   ]
  },
  {
   "cell_type": "code",
   "execution_count": 48,
   "metadata": {},
   "outputs": [
    {
     "name": "stdout",
     "output_type": "stream",
     "text": [
      "2\n",
      "[1 1 1 0 0]\n",
      "[3 0]\n",
      "3\n"
     ]
    }
   ],
   "source": [
    "print(np.sum(x < 3))# количество элементов\n",
    "y = np.array(([1,2,3,4,5], [6,7,8,9,10]))\n",
    "\n",
    "print(np.sum(y < 4, axis = 0))# количество элементов\n",
    "print(np.sum(y < 4, axis = 1))# количество элементов\n",
    "print(np.sum(y < 4))# количество элементов"
   ]
  },
  {
   "cell_type": "markdown",
   "metadata": {},
   "source": [
    "## 2. Пример для y. Вычислить количество элементов (по обоим размерностям), значения которых больше 3 и меньше 9"
   ]
  },
  {
   "cell_type": "code",
   "execution_count": 84,
   "metadata": {},
   "outputs": [
    {
     "name": "stdout",
     "output_type": "stream",
     "text": [
      "[1 1 1 1 1]\n",
      "[2 3]\n",
      "5\n"
     ]
    }
   ],
   "source": [
    "# Условие: значения больше 3 и меньше 9\n",
    "y = np.array(([1,2,3,4,5], [6,7,8,9,10]))\n",
    "\n",
    "print(np.sum((y > 3) & (y < 9)))# количество элементов\n"
   ]
  },
  {
   "cell_type": "code",
   "execution_count": 53,
   "metadata": {},
   "outputs": [
    {
     "name": "stdout",
     "output_type": "stream",
     "text": [
      "[ True  True False False False]\n",
      "[1 2 3]\n"
     ]
    }
   ],
   "source": [
    "x = np.array([1,2,3,4,5])\n",
    "y = print(x < 3)\n",
    "print(x[x < 4])"
   ]
  },
  {
   "cell_type": "code",
   "execution_count": 56,
   "metadata": {},
   "outputs": [
    {
     "name": "stdout",
     "output_type": "stream",
     "text": [
      "0b101010\n",
      "0b111011\n",
      "0b101010\n"
     ]
    }
   ],
   "source": [
    "print(bin(42))\n",
    "print(bin(59))\n",
    "print(bin(42 & 59))"
   ]
  },
  {
   "cell_type": "code",
   "execution_count": 60,
   "metadata": {},
   "outputs": [
    {
     "name": "stdout",
     "output_type": "stream",
     "text": [
      "[1 5 7]\n",
      "[[1 5 7]\n",
      " [2 4 8]]\n"
     ]
    }
   ],
   "source": [
    "#Векторизация индекса\n",
    "x = np.array([0,1,2,3,4,5,6,7,8,9])\n",
    "index = [1, 5, 7]\n",
    "\n",
    "print(x[index])\n",
    "\n",
    "index = [[1, 5, 7], [2, 4, 8]]\n",
    "print(x[index])\n",
    "## Форма результатат отражает форму массива индексов,а не форму исходного массива\n"
   ]
  },
  {
   "cell_type": "code",
   "execution_count": 63,
   "metadata": {},
   "outputs": [
    {
     "name": "stdout",
     "output_type": "stream",
     "text": [
      "[[ 0  1  2  3]\n",
      " [ 4  5  6  7]\n",
      " [ 8  9 10 11]]\n",
      "[ 8  9 10 11]\n",
      "[10  8  9]\n",
      "[[ 6  4  5]\n",
      " [10  8  9]]\n"
     ]
    }
   ],
   "source": [
    "x = np.arange(12).reshape((3,4))\n",
    "\n",
    "print(x)\n",
    "print(x[2])\n",
    "print(x[2, [2,0,1]])\n",
    "print(x[1:, [2,0,1]])"
   ]
  },
  {
   "cell_type": "code",
   "execution_count": 65,
   "metadata": {},
   "outputs": [
    {
     "name": "stdout",
     "output_type": "stream",
     "text": [
      "[0 1 2 3 4 5 6 7 8 9]\n",
      "[  0 999 999   3 999   5   6   7 999   9]\n"
     ]
    }
   ],
   "source": [
    "x = np.arange(10)\n",
    "i = np.array([2,1,8,4])\n",
    "print(x)\n",
    "x[i] = 999\n",
    "print(x)"
   ]
  },
  {
   "cell_type": "code",
   "execution_count": 68,
   "metadata": {},
   "outputs": [
    {
     "name": "stdout",
     "output_type": "stream",
     "text": [
      "[2, 2, 3, 3, 4, 5, 6, 22, 43]\n",
      "[ 2  2  3  3  4  5  6 22 43]\n"
     ]
    }
   ],
   "source": [
    "#Соритровка\n",
    "x = [3,2,3,4,5,6,22,43,2,]\n",
    "print(sorted(x))\n",
    "print(np.sort(x))\n",
    "# print(x.sort())"
   ]
  },
  {
   "cell_type": "code",
   "execution_count": 71,
   "metadata": {},
   "outputs": [
    {
     "name": "stdout",
     "output_type": "stream",
     "text": [
      "[('name', '<U10'), ('age', '<i4')]\n",
      "[False False  True  True]\n"
     ]
    }
   ],
   "source": [
    "#Структурированные массивы\n",
    "data = np.zeros(4, dtype = {\n",
    "    'names':(\n",
    "        'name', 'age'\n",
    "    ),\n",
    "    'formats':(\n",
    "        'U10', 'i4'\n",
    "    )\n",
    "} )\n",
    "print(data.dtype)\n",
    "name = ['name1', 'name2','name2','name3']\n",
    "age = [10, 20, 30, 40]\n",
    "\n",
    "data['name'] = name\n",
    "data['age'] = age\n",
    "print(data['age'] > 20)"
   ]
  },
  {
   "cell_type": "code",
   "execution_count": 73,
   "metadata": {},
   "outputs": [
    {
     "name": "stdout",
     "output_type": "stream",
     "text": [
      "[('name1', 10) ('name2', 20) ('name2', 30) ('name3', 40)]\n",
      "('name1', 10)\n",
      "name3\n"
     ]
    }
   ],
   "source": [
    "#Массивы записей\n",
    "\n",
    "data_rec = data.view(np.recarray)\n",
    "print(data_rec)\n",
    "print(data_rec[0])\n",
    "print(data_rec[-1].name)"
   ]
  }
 ],
 "metadata": {
  "kernelspec": {
   "display_name": "Python 3",
   "language": "python",
   "name": "python3"
  },
  "language_info": {
   "codemirror_mode": {
    "name": "ipython",
    "version": 3
   },
   "file_extension": ".py",
   "mimetype": "text/x-python",
   "name": "python",
   "nbconvert_exporter": "python",
   "pygments_lexer": "ipython3",
   "version": "3.12.4"
  }
 },
 "nbformat": 4,
 "nbformat_minor": 2
}
